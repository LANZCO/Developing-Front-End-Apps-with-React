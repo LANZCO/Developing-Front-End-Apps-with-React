{
  "nbformat": 4,
  "nbformat_minor": 0,
  "metadata": {
    "colab": {
      "provenance": []
    },
    "kernelspec": {
      "name": "python3",
      "display_name": "Python 3"
    },
    "language_info": {
      "name": "python"
    }
  },
  "cells": [
    {
      "cell_type": "code",
      "execution_count": 2,
      "metadata": {
        "colab": {
          "base_uri": "https://localhost:8080/"
        },
        "id": "EAe7U83CYDKE",
        "outputId": "3f34b0e5-d386-440c-e631-915562a9b95c"
      },
      "outputs": [
        {
          "output_type": "stream",
          "name": "stdout",
          "text": [
            "\n",
            "\u001b[31m================================================================================\u001b[m\n",
            "\u001b[31m================================================================================\u001b[m\n",
            "\n",
            "  \u001b[1m\u001b[33m                            DEPRECATION WARNING                            \u001b[m\n",
            "\n",
            "  \u001b[1mNode.js 14.x is no longer actively supported!\u001b[m\n",
            "\n",
            "  \u001b[1mYou will not receive security or critical stability updates\u001b[m for this version.\n",
            "\n",
            "  You should migrate to a supported version of Node.js as soon as possible.\n",
            "  Use the installation script that corresponds to the version of Node.js you\n",
            "  wish to install. e.g.\n",
            "\n",
            "   * \u001b[32mhttps://deb.nodesource.com/setup_16.x — Node.js 16 \"Gallium\"\u001b[m\n",
            "   * \u001b[32mhttps://deb.nodesource.com/setup_18.x — Node.js 18 LTS \"Hydrogen\"\u001b[m (recommended)\n",
            "   * \u001b[32mhttps://deb.nodesource.com/setup_19.x — Node.js 19 \"Nineteen\"\u001b[m\n",
            "   * \u001b[32mhttps://deb.nodesource.com/setup_20.x — Node.js 20 \"Iron\"\u001b[m (current)\n",
            "\n",
            "  Please see \u001b[1mhttps://github.com/nodejs/Release\u001b[m for details about which\n",
            "  version may be appropriate for you.\n",
            "\n",
            "  The \u001b[1mNodeSource\u001b[m Node.js distributions repository contains\n",
            "  information both about supported versions of Node.js and supported Linux\n",
            "  distributions. To learn more about usage, see the repository:\n",
            "    \u001b[1mhttps://github.com/nodesource/distributions\u001b[m\n",
            "\n",
            "\u001b[31m================================================================================\u001b[m\n",
            "\u001b[31m================================================================================\u001b[m\n",
            "\n",
            "Continuing in 20 seconds ...\n",
            "\n",
            "\n",
            "\u001b[1m\u001b[31m================================================================================\u001b[m\n",
            "\u001b[1m\u001b[31m▓▓▓▓▓▓▓▓▓▓▓▓▓▓▓▓▓▓▓▓▓▓▓▓▓▓▓▓▓▓▓▓▓▓▓▓▓▓▓▓▓▓▓▓▓▓▓▓▓▓▓▓▓▓▓▓▓▓▓▓▓▓▓▓▓▓▓▓▓▓▓▓▓▓▓▓▓▓▓▓\u001b[m\n",
            "\u001b[1m\u001b[31m================================================================================\u001b[m\n",
            "\n",
            "  \u001b[1m\u001b[33m                         \u001b[4mSCRIPT DEPRECATION WARNING\u001b[m                    \u001b[m\n",
            "\n",
            "  \n",
            "  This script, located at \u001b[1mhttps://deb.nodesource.com/setup_X\u001b[m, used to\n",
            "  install Node.js is deprecated now and will eventually be made inactive.\n",
            "\n",
            "  Please visit the NodeSource \u001b[1mdistributions\u001b[m Github and follow the\n",
            "  instructions to migrate your repo.\n",
            "  \u001b[4m\u001b[32m\u001b[1mhttps://github.com/nodesource/distributions\u001b[m\n",
            "\n",
            "  The \u001b[1mNodeSource\u001b[m Node.js Linux distributions GitHub repository contains\n",
            "  information about which versions of Node.js and which Linux distributions\n",
            "  are supported and how to install it.\n",
            "  \u001b[4m\u001b[32m\u001b[1mhttps://github.com/nodesource/distributions\u001b[m\n",
            "\n",
            "\n",
            "                          \u001b[4m\u001b[1m\u001b[33mSCRIPT DEPRECATION WARNING\u001b[m\n",
            "\n",
            "\u001b[1m\u001b[31m================================================================================\u001b[m\n",
            "\u001b[1m\u001b[31m▓▓▓▓▓▓▓▓▓▓▓▓▓▓▓▓▓▓▓▓▓▓▓▓▓▓▓▓▓▓▓▓▓▓▓▓▓▓▓▓▓▓▓▓▓▓▓▓▓▓▓▓▓▓▓▓▓▓▓▓▓▓▓▓▓▓▓▓▓▓▓▓▓▓▓▓▓▓▓▓\u001b[m\n",
            "\u001b[1m\u001b[31m================================================================================\u001b[m\n",
            "\n",
            "\u001b[36m\u001b[1mTO AVOID THIS WAIT MIGRATE THE SCRIPT\u001b[m\n",
            "Continuing in 60 seconds (press Ctrl-C to abort) ...\n",
            "\n",
            "\n",
            "## Installing the NodeSource Node.js 14.x repo...\n",
            "\n",
            "\n",
            "## Populating apt-get cache...\n",
            "\n",
            "+ apt-get update\n",
            "Get:1 http://security.ubuntu.com/ubuntu jammy-security InRelease [129 kB]\n",
            "Get:2 https://cloud.r-project.org/bin/linux/ubuntu jammy-cran40/ InRelease [3,626 B]\n",
            "Hit:3 http://archive.ubuntu.com/ubuntu jammy InRelease\n",
            "Hit:4 https://developer.download.nvidia.com/compute/cuda/repos/ubuntu2204/x86_64  InRelease\n",
            "Get:5 http://archive.ubuntu.com/ubuntu jammy-updates InRelease [128 kB]\n",
            "Ign:6 https://r2u.stat.illinois.edu/ubuntu jammy InRelease\n",
            "Get:7 https://r2u.stat.illinois.edu/ubuntu jammy Release [5,713 B]\n",
            "Get:8 https://r2u.stat.illinois.edu/ubuntu jammy Release.gpg [793 B]\n",
            "Hit:9 http://archive.ubuntu.com/ubuntu jammy-backports InRelease\n",
            "Hit:10 https://ppa.launchpadcontent.net/deadsnakes/ppa/ubuntu jammy InRelease\n",
            "Hit:11 https://ppa.launchpadcontent.net/graphics-drivers/ppa/ubuntu jammy InRelease\n",
            "Get:12 http://security.ubuntu.com/ubuntu jammy-security/restricted amd64 Packages [2,682 kB]\n",
            "Hit:13 https://ppa.launchpadcontent.net/ubuntugis/ppa/ubuntu jammy InRelease\n",
            "Get:14 http://archive.ubuntu.com/ubuntu jammy-updates/universe amd64 Packages [1,418 kB]\n",
            "Get:15 http://security.ubuntu.com/ubuntu jammy-security/main amd64 Packages [2,050 kB]\n",
            "Get:16 http://archive.ubuntu.com/ubuntu jammy-updates/main amd64 Packages [2,315 kB]\n",
            "Get:17 http://security.ubuntu.com/ubuntu jammy-security/universe amd64 Packages [1,128 kB]\n",
            "Get:18 https://r2u.stat.illinois.edu/ubuntu jammy/main all Packages [8,192 kB]\n",
            "Get:19 http://archive.ubuntu.com/ubuntu jammy-updates/restricted amd64 Packages [2,756 kB]\n",
            "Get:20 https://r2u.stat.illinois.edu/ubuntu jammy/main amd64 Packages [2,547 kB]\n",
            "Fetched 23.4 MB in 3s (8,334 kB/s)\n",
            "Reading package lists... Done\n",
            "W: Skipping acquire of configured file 'main/source/Sources' as repository 'https://r2u.stat.illinois.edu/ubuntu jammy InRelease' does not seem to provide it (sources.list entry misspelt?)\n",
            "\n",
            "## Confirming \"jammy\" is supported...\n",
            "\n",
            "+ curl -sLf -o /dev/null 'https://deb.nodesource.com/node_14.x/dists/jammy/Release'\n",
            "\n",
            "## Adding the NodeSource signing key to your keyring...\n",
            "\n",
            "+ curl -s https://deb.nodesource.com/gpgkey/nodesource.gpg.key | gpg --dearmor | tee /usr/share/keyrings/nodesource.gpg >/dev/null\n",
            "\n",
            "## Creating apt sources list file for the NodeSource Node.js 14.x repo...\n",
            "\n",
            "+ echo 'deb [signed-by=/usr/share/keyrings/nodesource.gpg] https://deb.nodesource.com/node_14.x jammy main' > /etc/apt/sources.list.d/nodesource.list\n",
            "+ echo 'deb-src [signed-by=/usr/share/keyrings/nodesource.gpg] https://deb.nodesource.com/node_14.x jammy main' >> /etc/apt/sources.list.d/nodesource.list\n",
            "\n",
            "## Running `apt-get update` for you...\n",
            "\n",
            "+ apt-get update\n",
            "Hit:1 http://archive.ubuntu.com/ubuntu jammy InRelease\n",
            "Hit:2 https://cloud.r-project.org/bin/linux/ubuntu jammy-cran40/ InRelease\n",
            "Hit:3 http://archive.ubuntu.com/ubuntu jammy-updates InRelease\n",
            "Hit:4 https://developer.download.nvidia.com/compute/cuda/repos/ubuntu2204/x86_64  InRelease\n",
            "Hit:5 http://archive.ubuntu.com/ubuntu jammy-backports InRelease\n",
            "Get:6 https://deb.nodesource.com/node_14.x jammy InRelease [4,563 B]\n",
            "Hit:7 http://security.ubuntu.com/ubuntu jammy-security InRelease\n",
            "Ign:8 https://r2u.stat.illinois.edu/ubuntu jammy InRelease\n",
            "Hit:9 https://r2u.stat.illinois.edu/ubuntu jammy Release\n",
            "Hit:10 https://ppa.launchpadcontent.net/deadsnakes/ppa/ubuntu jammy InRelease\n",
            "Hit:11 https://ppa.launchpadcontent.net/graphics-drivers/ppa/ubuntu jammy InRelease\n",
            "Hit:12 https://ppa.launchpadcontent.net/ubuntugis/ppa/ubuntu jammy InRelease\n",
            "Get:13 https://deb.nodesource.com/node_14.x jammy/main amd64 Packages [776 B]\n",
            "Fetched 5,339 B in 2s (2,932 B/s)\n",
            "Reading package lists... Done\n",
            "W: Skipping acquire of configured file 'main/source/Sources' as repository 'https://r2u.stat.illinois.edu/ubuntu jammy InRelease' does not seem to provide it (sources.list entry misspelt?)\n",
            "\n",
            "## Run `\u001b[1msudo apt-get install -y nodejs\u001b[m` to install Node.js 14.x and npm\n",
            "## You may also need development tools to build native addons:\n",
            "     sudo apt-get install gcc g++ make\n",
            "## To install the Yarn package manager, run:\n",
            "     curl -sL https://dl.yarnpkg.com/debian/pubkey.gpg | gpg --dearmor | sudo tee /usr/share/keyrings/yarnkey.gpg >/dev/null\n",
            "     echo \"deb [signed-by=/usr/share/keyrings/yarnkey.gpg] https://dl.yarnpkg.com/debian stable main\" | sudo tee /etc/apt/sources.list.d/yarn.list\n",
            "     sudo apt-get update && sudo apt-get install yarn\n",
            "\n",
            "\n",
            "Reading package lists... Done\n",
            "Building dependency tree... Done\n",
            "Reading state information... Done\n",
            "The following NEW packages will be installed:\n",
            "  nodejs\n",
            "0 upgraded, 1 newly installed, 0 to remove and 56 not upgraded.\n",
            "Need to get 25.4 MB of archives.\n",
            "After this operation, 121 MB of additional disk space will be used.\n",
            "Get:1 https://deb.nodesource.com/node_14.x jammy/main amd64 nodejs amd64 14.21.3-deb-1nodesource1 [25.4 MB]\n",
            "Fetched 25.4 MB in 0s (57.8 MB/s)\n",
            "Selecting previously unselected package nodejs.\n",
            "(Reading database ... 123586 files and directories currently installed.)\n",
            "Preparing to unpack .../nodejs_14.21.3-deb-1nodesource1_amd64.deb ...\n",
            "Unpacking nodejs (14.21.3-deb-1nodesource1) ...\n",
            "Setting up nodejs (14.21.3-deb-1nodesource1) ...\n",
            "Processing triggers for man-db (2.10.2-1) ...\n"
          ]
        }
      ],
      "source": [
        "!curl -sL https://deb.nodesource.com/setup_14.x | bash -\n",
        "!apt-get install -y nodejs"
      ]
    },
    {
      "cell_type": "code",
      "source": [
        "!mkdir my_plant_shop\n",
        "!cd my_plant_shop\n",
        "!npm init -y"
      ],
      "metadata": {
        "colab": {
          "base_uri": "https://localhost:8080/"
        },
        "id": "pl0yyvb5Ytq4",
        "outputId": "178477e1-13b5-4a82-b16e-c23467da5290"
      },
      "execution_count": 3,
      "outputs": [
        {
          "output_type": "stream",
          "name": "stdout",
          "text": [
            "Wrote to /content/package.json:\n",
            "\n",
            "{\n",
            "  \"name\": \"content\",\n",
            "  \"version\": \"1.0.0\",\n",
            "  \"description\": \"\",\n",
            "  \"main\": \"index.js\",\n",
            "  \"scripts\": {\n",
            "    \"test\": \"echo \\\"Error: no test specified\\\" && exit 1\"\n",
            "  },\n",
            "  \"keywords\": [],\n",
            "  \"author\": \"\",\n",
            "  \"license\": \"ISC\"\n",
            "}\n",
            "\n",
            "\n"
          ]
        }
      ]
    },
    {
      "cell_type": "code",
      "source": [
        "!npm install react react-dom redux react-redux"
      ],
      "metadata": {
        "colab": {
          "base_uri": "https://localhost:8080/"
        },
        "id": "KKvOs1ilZmYc",
        "outputId": "f15e9822-35f2-4b0d-bdb7-17c17909327c"
      },
      "execution_count": 4,
      "outputs": [
        {
          "output_type": "stream",
          "name": "stdout",
          "text": [
            "\u001b[K\u001b[?25h\u001b[37;40mnpm\u001b[0m \u001b[0m\u001b[34;40mnotice\u001b[0m\u001b[35m\u001b[0m created a lockfile as package-lock.json. You should commit this file.\n",
            "\u001b[0m\u001b[37;40mnpm\u001b[0m \u001b[0m\u001b[30;43mWARN\u001b[0m\u001b[35m\u001b[0m content@1.0.0 No description\n",
            "\u001b[0m\u001b[37;40mnpm\u001b[0m \u001b[0m\u001b[30;43mWARN\u001b[0m\u001b[35m\u001b[0m content@1.0.0 No repository field.\n",
            "\u001b[0m\n",
            "+ redux@5.0.1\n",
            "+ react-redux@9.1.2\n",
            "+ react@18.3.1\n",
            "+ react-dom@18.3.1\n",
            "added 9 packages from 5 contributors and audited 9 packages in 1.66s\n",
            "found \u001b[92m0\u001b[0m vulnerabilities\n",
            "\n",
            "\u001b[K\u001b[?25h\n",
            "\u001b[33m\u001b[39m\n",
            "\u001b[33m   ╭────────────────────────────────────────────────────────────────╮\u001b[39m\n",
            "   \u001b[33m│\u001b[39m                                                                \u001b[33m│\u001b[39m\n",
            "   \u001b[33m│\u001b[39m      New \u001b[31mmajor\u001b[39m version of npm available! \u001b[31m6.14.18\u001b[39m → \u001b[32m10.8.2\u001b[39m      \u001b[33m│\u001b[39m\n",
            "   \u001b[33m│\u001b[39m   \u001b[33mChangelog:\u001b[39m \u001b[36mhttps://github.com/npm/cli/releases/tag/v10.8.2\u001b[39m   \u001b[33m│\u001b[39m\n",
            "   \u001b[33m│\u001b[39m               Run \u001b[32mnpm install -g npm\u001b[39m to update!                \u001b[33m│\u001b[39m\n",
            "   \u001b[33m│\u001b[39m                                                                \u001b[33m│\u001b[39m\n",
            "\u001b[33m   ╰────────────────────────────────────────────────────────────────╯\u001b[39m\n",
            "\u001b[33m\u001b[39m\n"
          ]
        }
      ]
    },
    {
      "cell_type": "code",
      "source": [
        "!mkdir my_plant_shop\n",
        "!cd my_plant_shop"
      ],
      "metadata": {
        "colab": {
          "base_uri": "https://localhost:8080/"
        },
        "id": "hPVoZ3cTbYKK",
        "outputId": "907601f1-e4b5-4439-99b8-169071a853c9"
      },
      "execution_count": 7,
      "outputs": [
        {
          "output_type": "stream",
          "name": "stdout",
          "text": [
            "mkdir: cannot create directory ‘my_plant_shop’: File exists\n"
          ]
        }
      ]
    },
    {
      "cell_type": "code",
      "source": [
        "!npm init -y"
      ],
      "metadata": {
        "colab": {
          "base_uri": "https://localhost:8080/"
        },
        "id": "C04kr6Fvbczz",
        "outputId": "2f360af1-24bc-4840-f453-03313a674163"
      },
      "execution_count": 8,
      "outputs": [
        {
          "output_type": "stream",
          "name": "stdout",
          "text": [
            "Wrote to /content/package.json:\n",
            "\n",
            "{\n",
            "  \"name\": \"content\",\n",
            "  \"version\": \"1.0.0\",\n",
            "  \"main\": \"index.js\",\n",
            "  \"scripts\": {\n",
            "    \"test\": \"echo \\\"Error: no test specified\\\" && exit 1\"\n",
            "  },\n",
            "  \"keywords\": [],\n",
            "  \"author\": \"\",\n",
            "  \"license\": \"ISC\",\n",
            "  \"dependencies\": {\n",
            "    \"react\": \"^18.3.1\",\n",
            "    \"react-dom\": \"^18.3.1\",\n",
            "    \"react-redux\": \"^9.1.2\",\n",
            "    \"redux\": \"^5.0.1\"\n",
            "  },\n",
            "  \"devDependencies\": {},\n",
            "  \"description\": \"\"\n",
            "}\n",
            "\n",
            "\n"
          ]
        }
      ]
    },
    {
      "cell_type": "code",
      "source": [
        "!npm install react react-dom react-router-dom redux react-redux"
      ],
      "metadata": {
        "colab": {
          "base_uri": "https://localhost:8080/"
        },
        "id": "T5czv_v9biC6",
        "outputId": "cf4c7e33-1c2b-4e3f-8f27-b872dbfdc677"
      },
      "execution_count": 9,
      "outputs": [
        {
          "output_type": "stream",
          "name": "stdout",
          "text": [
            "\u001b[K\u001b[?25h\u001b[37;40mnpm\u001b[0m \u001b[0m\u001b[30;43mWARN\u001b[0m\u001b[35m\u001b[0m content@1.0.0 No description\n",
            "\u001b[0m\u001b[37;40mnpm\u001b[0m \u001b[0m\u001b[30;43mWARN\u001b[0m\u001b[35m\u001b[0m content@1.0.0 No repository field.\n",
            "\u001b[0m\n",
            "+ redux@5.0.1\n",
            "+ react-redux@9.1.2\n",
            "+ react@18.3.1\n",
            "+ react-dom@18.3.1\n",
            "+ react-router-dom@6.25.1\n",
            "added 3 packages from 1 contributor, updated 4 packages and audited 12 packages in 1.971s\n",
            "found \u001b[92m0\u001b[0m vulnerabilities\n",
            "\n"
          ]
        }
      ]
    },
    {
      "cell_type": "code",
      "source": [
        "%%writefile src/App.js\n",
        "import React from 'react';\n",
        "import { BrowserRouter as Router, Route, Switch } from 'react-router-dom';\n",
        "import Header from './components/Header';\n",
        "import ProductListing from './components/ProductListing';\n",
        "import ShoppingCart from './components/ShoppingCart';\n",
        "\n",
        "function App() {\n",
        "  return (\n",
        "    <Router>\n",
        "      <Header />\n",
        "      <Switch>\n",
        "        <Route path=\"/\" exact>\n",
        "          <LandingPage />\n",
        "        </Route>\n",
        "        <Route path=\"/products\">\n",
        "          <ProductListing />\n",
        "        </Route>\n",
        "        <Route path=\"/cart\">\n",
        "          <ShoppingCart />\n",
        "        </Route>\n",
        "      </Switch>\n",
        "    </Router>\n",
        "  );\n",
        "}\n",
        "\n",
        "function LandingPage() {\n",
        "  return (\n",
        "    <div>\n",
        "      <h1>Welcome to Our Plant Shop!</h1>\n",
        "      <p>Discover unique houseplants and bring nature into your home.</p>\n",
        "      <button>Get Started</button>\n",
        "    </div>\n",
        "  );\n",
        "}\n",
        "\n",
        "export default App;"
      ],
      "metadata": {
        "id": "GsgFKVuJbwnw"
      },
      "execution_count": null,
      "outputs": []
    },
    {
      "cell_type": "code",
      "source": [
        "%%writefile src/components/Header.js\n",
        "import React from 'react';\n",
        "import { useSelector, useDispatch } from 'react-redux';\n",
        "import { Link } from 'react-router-dom';\n",
        "\n",
        "const Header = () => {\n",
        "  const { totalItems } = useSelector(state => state.cart);\n",
        "  const dispatch = useDispatch();\n",
        "\n",
        "  return (\n",
        "    <header>\n",
        "      <nav>\n",
        "        <div>\n",
        "          <Link to=\"/\">Home</Link>\n",
        "          <Link to=\"/products\">Products</Link>\n",
        "          <Link to=\"/cart\">Cart</Link>\n",
        "        </div>\n",
        "        <div>\n",
        "          <span>Cart: {totalItems}</span>\n",
        "        </div>\n",
        "      </nav>\n",
        "    </header>\n",
        "  );\n",
        "\n",
        "export default Header;"
      ],
      "metadata": {
        "id": "hOpDt05TbzKm"
      },
      "execution_count": null,
      "outputs": []
    },
    {
      "cell_type": "markdown",
      "source": [
        "3. 创建 ProductListing 组件:"
      ],
      "metadata": {
        "id": "fzgUsMDYb3vH"
      }
    },
    {
      "cell_type": "code",
      "source": [
        "%%writefile src/components/ProductListing.js\n",
        "import React from 'react';\n",
        "import { useDispatch } from 'react-redux';\n",
        "import { addItemToCart } from '../actions/cartActions';\n",
        "\n",
        "const ProductListing = () => {\n",
        "  const dispatch = useDispatch();\n",
        "\n",
        "  const plants = [\n",
        "    { id: 1, name: 'Fern', price: 15, thumbnail: 'fern.jpg' },\n",
        "    { id: 2, name: 'Cactus', price: 20, thumbnail: 'cactus.jpg' },\n",
        "    { id: 3, name: 'Ivy', price: 10, thumbnail: 'ivy.jpg' },\n",
        "    { id: 4, name: 'Pothos', price: 12, thumbnail: 'pothos.jpg' },\n",
        "    { id: 5, name: 'Snake Plant', price: 18, thumbnail: 'snake-plant.jpg' },\n",
        "    { id: 6, name: 'Spider Plant', price: 16, thumbnail: 'spider-plant.jpg' }\n",
        "  ];\n",
        "\n",
        "  return (\n",
        "    <div>\n",
        "      <h1>Product Listing</h1>\n",
        "      <div>\n",
        "        {plants.map(plant => (\n",
        "          <div key={plant.id}>\n",
        "            <img src={plant.thumbnail} alt={plant.name} />\n",
        "            <h2>{plant.name}</h2>\n",
        "            <p>${plant.price}</p>\n",
        "            <button onClick={() => dispatch(addItemToCart(plant))}>Add to Cart</button>\n",
        "          </div>\n",
        "        ))}\n",
        "      </div>\n",
        "    </div>\n",
        "  );\n",
        "\n",
        "export default ProductListing;"
      ],
      "metadata": {
        "id": "kj8KGBo4b2rb"
      },
      "execution_count": null,
      "outputs": []
    },
    {
      "cell_type": "markdown",
      "source": [
        "4. 创建 ShoppingCart 组件:"
      ],
      "metadata": {
        "id": "TmHrfXkZb9UY"
      }
    },
    {
      "cell_type": "code",
      "source": [
        "%%writefile src/components/ShoppingCart.js\n",
        "import React from 'react';\n",
        "import { useSelector, useDispatch } from 'react-redux';\n",
        "import { removeItemFromCart } from '../actions/cartActions';\n",
        "\n",
        "const ShoppingCart = () => {\n",
        "  const { items, totalItems, totalCost } = useSelector(state => state.cart);\n",
        "  const dispatch = useDispatch();\n",
        "\n",
        "  return (\n",
        "    <div>\n",
        "      <h1>Shopping Cart</h1>\n",
        "      <p>Total Items: {totalItems}</p>\n",
        "      <p>Total Cost: ${totalCost}</p>\n",
        "      <button>Checkout (Coming Soon)</button>\n",
        "      <button onClick={() => window.location.href = '/products'}>Continue Shopping</button>\n",
        "      {items.map(item => (\n",
        "        <div key={item.id}>\n",
        "          <img src={item.thumbnail} alt={item.name} />\n",
        "          <h2>{item.name}</h2>\n",
        "          <p>${item.price}</p>\n",
        "          <button onClick={() => dispatch(removeItemFromCart(item.id))}>-</button>\n",
        "          <button>+</button>\n",
        "          <button onClick={() => dispatch(removeItemFromCart(item.id))}>Delete</button>\n",
        "        </div>\n",
        "      ))}\n",
        "    </div>\n",
        "  );\n",
        "\n",
        "export default ShoppingCart;"
      ],
      "metadata": {
        "id": "Qasqm8pRb_1-"
      },
      "execution_count": null,
      "outputs": []
    },
    {
      "cell_type": "markdown",
      "source": [
        "步骤 3: 创建 Redux Store 和 Reducers\n",
        "创建 Redux store:"
      ],
      "metadata": {
        "id": "TlJEuAS4cFHC"
      }
    },
    {
      "cell_type": "code",
      "source": [
        "%%writefile src/store/index.js\n",
        "import { createStore } from 'redux';\n",
        "import rootReducer from '../reducers';\n",
        "\n",
        "const store = createStore(rootReducer);\n",
        "\n",
        "export default store;"
      ],
      "metadata": {
        "id": "xvOB3HiecF6o"
      },
      "execution_count": null,
      "outputs": []
    },
    {
      "cell_type": "markdown",
      "source": [
        "2. 创建 reducers:"
      ],
      "metadata": {
        "id": "6vwx54QqcO3i"
      }
    },
    {
      "cell_type": "code",
      "source": [
        "%%writefile src/reducers/index.js\n",
        "import { combineReducers } from 'redux';\n",
        "import cartReducer from './cartReducer';\n",
        "\n",
        "const rootReducer = combineReducers({\n",
        "  cart: cartReducer\n",
        "});\n",
        "\n",
        "export default rootReducer;"
      ],
      "metadata": {
        "id": "mufB4dtocH6a"
      },
      "execution_count": null,
      "outputs": []
    },
    {
      "cell_type": "markdown",
      "source": [
        "3.创建 cart reducer:"
      ],
      "metadata": {
        "id": "gkP2ZxDFcSc4"
      }
    },
    {
      "cell_type": "code",
      "source": [
        "%%writefile src/reducers/cartReducer.js\n",
        "const initialState = {\n",
        "  items: [],\n",
        "  totalItems: 0,\n",
        "  totalCost: 0\n",
        "};\n",
        "\n",
        "const cartReducer = (state = initialState, action) => {\n",
        "  switch (action.type) {\n",
        "    case 'ADD_ITEM':\n",
        "      return {\n",
        "        ...state,\n",
        "        items: [...state.items, action.payload],\n",
        "        totalItems: state.totalItems + 1,\n",
        "        totalCost: state.totalCost + action.payload.price\n",
        "      };\n",
        "    case 'REMOVE_ITEM':\n",
        "      const index = state.items.findIndex(item => item.id === action.payload.id);\n",
        "      const newTotalCost = state.totalCost - state.items[index].price;\n",
        "      const newTotalItems = state.totalItems - 1;\n",
        "      const newItems = [...state.items];\n",
        "      newItems.splice(index, 1);\n",
        "      return {\n",
        "        ...state,\n",
        "        items: newItems,\n",
        "        totalItems: newTotalItems,\n",
        "        totalCost: newTotalCost\n",
        "      };\n",
        "    default:\n",
        "      return state;\n",
        "  }\n",
        "};\n",
        "\n",
        "export default cartReducer;"
      ],
      "metadata": {
        "id": "QmBdIftBcU1H"
      },
      "execution_count": null,
      "outputs": []
    },
    {
      "cell_type": "markdown",
      "source": [
        "步骤 4: 创建 Actions\n",
        "创建 cart actions:"
      ],
      "metadata": {
        "id": "OASUSidwcYEG"
      }
    },
    {
      "cell_type": "code",
      "source": [
        "%%writefile src/actions/cartActions.js\n",
        "export const addItemToCart = item => ({\n",
        "  type: 'ADD_ITEM',\n",
        "  payload: item\n",
        "});\n",
        "\n",
        "export const removeItemFromCart = itemId => ({\n",
        "  type: 'REMOVE_ITEM',\n",
        "  payload: { id: itemId }\n",
        "});"
      ],
      "metadata": {
        "id": "Sj7eedTacbBX"
      },
      "execution_count": null,
      "outputs": []
    },
    {
      "cell_type": "markdown",
      "source": [
        "步骤 5: 运行你的应用\n",
        "运行你的应用"
      ],
      "metadata": {
        "id": "qOcROm8wcjxQ"
      }
    },
    {
      "cell_type": "code",
      "source": [
        "!cd my_plant_shop\n",
        "!npm install\n",
        "!npm run start"
      ],
      "metadata": {
        "id": "3wVPQqL2cn_R"
      },
      "execution_count": null,
      "outputs": []
    }
  ]
}